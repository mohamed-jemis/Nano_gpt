{
 "cells": [
  {
   "cell_type": "code",
   "execution_count": 58,
   "metadata": {},
   "outputs": [],
   "source": [
    "import torch\n",
    "import numpy as np "
   ]
  },
  {
   "cell_type": "code",
   "execution_count": 59,
   "metadata": {},
   "outputs": [],
   "source": [
    "with open('wizard_of_oz.txt','r',encoding='utf-8')as f :\n",
    "    text = f.read()\n",
    "# print (text[:200])"
   ]
  },
  {
   "cell_type": "code",
   "execution_count": 60,
   "metadata": {},
   "outputs": [],
   "source": [
    "chars = sorted(list(set(text)))\n",
    "vocab_size = len(chars)\n",
    "block_size = 8"
   ]
  },
  {
   "cell_type": "markdown",
   "metadata": {},
   "source": [
    "# encoder and decoder \n"
   ]
  },
  {
   "cell_type": "code",
   "execution_count": 61,
   "metadata": {},
   "outputs": [],
   "source": [
    "string_to_int = {ch:i for i,ch in enumerate(chars)}\n",
    "int_to_string = {i:ch for i ,ch in enumerate(chars)}\n",
    "\n",
    "encode = lambda s:[string_to_int[c] for c in s]\n",
    "decode = lambda l: ''.join([int_to_string[i]for i in l])\n",
    "\n",
    "data = torch.tensor(encode(text), dtype = torch.long)\n",
    "\n"
   ]
  },
  {
   "cell_type": "code",
   "execution_count": 62,
   "metadata": {},
   "outputs": [],
   "source": [
    "data = torch.tensor(encode(text), dtype = torch.long)"
   ]
  },
  {
   "cell_type": "code",
   "execution_count": 63,
   "metadata": {},
   "outputs": [],
   "source": [
    "n = int(0.9 * len(data))\n",
    "train_data = data[:n]\n",
    "val_data = data[n:]\n"
   ]
  },
  {
   "cell_type": "code",
   "execution_count": 64,
   "metadata": {},
   "outputs": [
    {
     "name": "stdout",
     "output_type": "stream",
     "text": [
      "when input is tensor([80]) the target: 1\n",
      "when input is tensor([80,  1]) the target: 1\n",
      "when input is tensor([80,  1,  1]) the target: 28\n",
      "when input is tensor([80,  1,  1, 28]) the target: 39\n",
      "when input is tensor([80,  1,  1, 28, 39]) the target: 42\n",
      "when input is tensor([80,  1,  1, 28, 39, 42]) the target: 39\n",
      "when input is tensor([80,  1,  1, 28, 39, 42, 39]) the target: 44\n",
      "when input is tensor([80,  1,  1, 28, 39, 42, 39, 44]) the target: 32\n"
     ]
    }
   ],
   "source": [
    "x = train_data[:block_size]\n",
    "y = train_data[1:block_size + 1]\n",
    "\n",
    "for t in range(block_size):\n",
    "    context = x[:t+1]\n",
    "    target = y[t]\n",
    "    print(f\"when input is {context} the target: {target}\")"
   ]
  },
  {
   "cell_type": "code",
   "execution_count": 65,
   "metadata": {},
   "outputs": [],
   "source": [
    "torch.manual_seed(1337)\n",
    "batch_size = 4 # how many independent sequences will we process in parallel?\n",
    "block_size = 8 # what is the maximum context length for predictions?\n",
    "\n",
    "def get_batch(split):\n",
    "    data = train_data if split == 'train' else val_data\n",
    "    ix = torch.randint(len(data) - block_size, (batch_size,))\n",
    "    x = torch.stack([data[i:i+block_size] for i in ix])\n",
    "    y = torch.stack([data[i+1:i+block_size+1] for i in ix])\n",
    "    return x, y"
   ]
  },
  {
   "cell_type": "code",
   "execution_count": 66,
   "metadata": {},
   "outputs": [],
   "source": [
    "x_b, y_b = get_batch('train')\n"
   ]
  },
  {
   "cell_type": "code",
   "execution_count": 67,
   "metadata": {},
   "outputs": [],
   "source": [
    "from torch.nn.modules.loss import F\n",
    "\n",
    "\n",
    "class BigramLanguageModel(nn.Module):\n",
    "    def __init__(self, vocab_size):\n",
    "        super().__init__()\n",
    "        self.token_embedding_table = nn.Embedding(vocab_size, vocab_size)\n",
    "\n",
    "    def forward(self,index,targets=None):\n",
    "        logits = self.token_embedding_table(index)\n",
    "        if targets == None:\n",
    "            loss = None \n",
    "        else:\n",
    "            Batch , Time ,Channels = logits.shape\n",
    "            logits = logits.view(Batch*Time,Channels)\n",
    "            targets = targets.view(Batch*Time)\n",
    "            loss = F.cross_entropy(logits, targets)\n",
    "            \n",
    "        return logits, loss \n",
    "    def generate (self , idx ,max_new_tokens):\n",
    "        for i in range (max_new_tokens):\n",
    "            logits, target = self(idx)\n",
    "            logits = logits[:,-1,:]\n",
    "            probs = F.softmax(logits,dim =-1)\n",
    "            next_idx = torch.multinomial(probs,num_samples=1)\n",
    "            idx = torch.cat((idx,next_idx),dim=1)\n",
    "        return idx\n",
    "    \n",
    "\n"
   ]
  },
  {
   "cell_type": "code",
   "execution_count": 68,
   "metadata": {},
   "outputs": [
    {
     "name": "stdout",
     "output_type": "stream",
     "text": [
      "torch.Size([32, 81])\n",
      "tensor(4.9362, grad_fn=<NllLossBackward0>)\n",
      "\n",
      ":iaNhM?ag1uGaz(\"wrn)!y﻿pg8DlqV349z﻿G﻿40A*h8\n",
      "LNJZ&8?)3Q,X\n",
      "n4nYv2(XF4)DN33OEgMilndMLpO7I33Q[(j:g13 vwS\n"
     ]
    }
   ],
   "source": [
    "m = BigramLanguageModel(vocab_size)\n",
    "logits, loss = m(x_b,y_b)\n",
    "print(logits.shape)\n",
    "print(loss)\n",
    "\n",
    "print(decode(m.generate(idx= torch.zeros((1,1),dtype = torch.long), max_new_tokens = 100)[0].tolist()))\n"
   ]
  }
 ],
 "metadata": {
  "kernelspec": {
   "display_name": "'Cuda-env'",
   "language": "python",
   "name": "test"
  },
  "language_info": {
   "codemirror_mode": {
    "name": "ipython",
    "version": 3
   },
   "file_extension": ".py",
   "mimetype": "text/x-python",
   "name": "python",
   "nbconvert_exporter": "python",
   "pygments_lexer": "ipython3",
   "version": "3.10.2"
  }
 },
 "nbformat": 4,
 "nbformat_minor": 2
}
